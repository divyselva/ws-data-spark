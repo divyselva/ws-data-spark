{
 "cells": [
  {
   "cell_type": "markdown",
   "metadata": {},
   "source": [
    "# Preparation/ Set Up\n",
    "\n",
    "- **Import necessary libraries**\n",
    "\n",
    "- **Create Spark Session**\n",
    "\n",
    "- **Read CSVs into dataframes**\n",
    "    - Modify headers for easier use"
   ]
  },
  {
   "cell_type": "code",
   "execution_count": 1,
   "metadata": {},
   "outputs": [],
   "source": [
    "from pyspark.sql import SparkSession\n",
    "import pyspark.sql.functions as f\n",
    "from pyspark.sql.types import DoubleType"
   ]
  },
  {
   "cell_type": "code",
   "execution_count": 2,
   "metadata": {},
   "outputs": [],
   "source": [
    "spark = SparkSession.builder \\\n",
    "    .master(\"local\") \\\n",
    "    .appName(\"EQ Test\") \\\n",
    "    .getOrCreate()"
   ]
  },
  {
   "cell_type": "code",
   "execution_count": 3,
   "metadata": {},
   "outputs": [
    {
     "name": "stdout",
     "output_type": "stream",
     "text": [
      "root\n",
      " |-- _ID: integer (nullable = true)\n",
      " |--  TimeSt: string (nullable = true)\n",
      " |-- Country: string (nullable = true)\n",
      " |-- Province: string (nullable = true)\n",
      " |-- City: string (nullable = true)\n",
      " |-- Latitude: double (nullable = true)\n",
      " |-- Longitude: double (nullable = true)\n",
      "\n"
     ]
    }
   ],
   "source": [
    "df = spark.read\\\n",
    ".options(header='True', inferSchema='True', delimiter=',')\\\n",
    ".csv('../ws-data-spark/data/DataSample.csv')\n",
    "\n",
    "df.printSchema()"
   ]
  },
  {
   "cell_type": "code",
   "execution_count": 4,
   "metadata": {},
   "outputs": [
    {
     "name": "stdout",
     "output_type": "stream",
     "text": [
      "root\n",
      " |-- POIID: string (nullable = true)\n",
      " |--  Latitude: double (nullable = true)\n",
      " |-- Longitude: double (nullable = true)\n",
      "\n"
     ]
    }
   ],
   "source": [
    "poi = spark.read\\\n",
    ".options(header='True', inferSchema='True', delimiter=',')\\\n",
    ".csv('../ws-data-spark/data/POIList.csv')\n",
    "\n",
    "poi.printSchema()"
   ]
  },
  {
   "cell_type": "code",
   "execution_count": 5,
   "metadata": {},
   "outputs": [],
   "source": [
    "df = df.withColumnRenamed(' TimeSt', 'TimeSt')\n",
    "\n",
    "poi = poi.withColumnRenamed(' Latitude','PLat').withColumnRenamed('Longitude','PLong')"
   ]
  },
  {
   "cell_type": "markdown",
   "metadata": {},
   "source": [
    "**Create haversine function to calculate distance between points**\n",
    "- Use for when determining minimum distance and radius"
   ]
  },
  {
   "cell_type": "code",
   "execution_count": 22,
   "metadata": {},
   "outputs": [],
   "source": [
    "def dist(lat1, long1, lat2, long2):\n",
    "    \"\"\"\n",
    "    Calculate the great circle distance between two points \n",
    "    on the earth (specified in decimal degrees)\n",
    "    \"\"\"\n",
    "    # convert decimal degrees to radians \n",
    "    lat1, long1, lat2, long2 = map(f.toRadians, [lat1, long1, lat2, long2])\n",
    "    # haversine formula \n",
    "    dlon = long2 - long1 \n",
    "    dlat = lat2 - lat1 \n",
    "    a = f.sin(dlat/2)**2 + f.cos(lat1) * f.cos(lat2) * f.sin(dlon/2)**2\n",
    "    c = 2 * f.asin(f.sqrt(a)) \n",
    "    # Radius of earth in kilometers is 6371\n",
    "    km = 6371* c\n",
    "    return f.round(km, 3)\n"
   ]
  },
  {
   "cell_type": "markdown",
   "metadata": {},
   "source": [
    "# A. Clean-up\n",
    "\n",
    "**Remove duplicates from DataSample**\n",
    "\n",
    "4052 rows removed"
   ]
  },
  {
   "cell_type": "code",
   "execution_count": 23,
   "metadata": {},
   "outputs": [],
   "source": [
    "df = df.dropDuplicates(['TimeSt','Latitude','Longitude'])\n",
    "\n",
    "# Also removed duplicate POI (Kept POI 1, dropped POI 2 )\n",
    "poi = poi.dropDuplicates(['PLat','PLong'])"
   ]
  },
  {
   "cell_type": "markdown",
   "metadata": {},
   "source": [
    "# B. Label\n",
    "**Combined both dataframes to identify POI with minimum distance, utilizes haversine function**"
   ]
  },
  {
   "cell_type": "code",
   "execution_count": 24,
   "metadata": {},
   "outputs": [],
   "source": [
    "combine = df.crossJoin(poi)"
   ]
  },
  {
   "cell_type": "code",
   "execution_count": 25,
   "metadata": {},
   "outputs": [],
   "source": [
    "combine = combine.withColumn(\"distance\", dist('Latitude','Longitude','PLat','PLong'))"
   ]
  },
  {
   "cell_type": "code",
   "execution_count": 26,
   "metadata": {},
   "outputs": [
    {
     "name": "stdout",
     "output_type": "stream",
     "text": [
      "+-------+--------------------+-------+--------+---------+--------+---------+-----+---------+-----------+--------+\n",
      "|    _ID|              TimeSt|Country|Province|     City|Latitude|Longitude|POIID|     PLat|      PLong|distance|\n",
      "+-------+--------------------+-------+--------+---------+--------+---------+-----+---------+-----------+--------+\n",
      "|5613403|2017-06-21 00:22:...|     CA|      ON|Etobicoke| 43.6381| -79.5787| POI1|53.546167|-113.485734|2693.422|\n",
      "|5613403|2017-06-21 00:22:...|     CA|      ON|Etobicoke| 43.6381| -79.5787| POI4| 45.22483| -63.232729|1307.551|\n",
      "|5613403|2017-06-21 00:22:...|     CA|      ON|Etobicoke| 43.6381| -79.5787| POI3|45.521629| -73.566024| 520.056|\n",
      "|5013924|2017-06-21 00:34:...|     CA|      ON|  Toronto| 43.6606| -79.4635| POI1|53.546167|-113.485734| 2699.44|\n",
      "|5013924|2017-06-21 00:34:...|     CA|      ON|  Toronto| 43.6606| -79.4635| POI4| 45.22483| -63.232729|1297.955|\n",
      "|5013924|2017-06-21 00:34:...|     CA|      ON|  Toronto| 43.6606| -79.4635| POI3|45.521629| -73.566024| 510.626|\n",
      "|5122425|2017-06-21 00:42:...|     CA|      AB|  Calgary| 51.1188|-113.9471| POI1|53.546167|-113.485734| 271.724|\n",
      "|5122425|2017-06-21 00:42:...|     CA|      AB|  Calgary| 51.1188|-113.9471| POI4| 45.22483| -63.232729|3740.521|\n",
      "|5122425|2017-06-21 00:42:...|     CA|      AB|  Calgary| 51.1188|-113.9471| POI3|45.521629| -73.566024|3010.041|\n",
      "|4571908|2017-06-21 01:01:...|     CA|      AB|  Calgary| 51.0876|-114.0214| POI1|53.546167|-113.485734| 275.792|\n",
      "|4571908|2017-06-21 01:01:...|     CA|      AB|  Calgary| 51.0876|-114.0214| POI4| 45.22483| -63.232729|3746.244|\n",
      "|4571908|2017-06-21 01:01:...|     CA|      AB|  Calgary| 51.0876|-114.0214| POI3|45.521629| -73.566024|3015.466|\n",
      "|5447065|2017-06-21 01:08:...|     CA|      ON|  Toronto|43.66341|-79.38597| POI1|53.546167|-113.485734|  2704.3|\n",
      "|5447065|2017-06-21 01:08:...|     CA|      ON|  Toronto|43.66341|-79.38597| POI4| 45.22483| -63.232729|1291.815|\n",
      "|5447065|2017-06-21 01:08:...|     CA|      ON|  Toronto|43.66341|-79.38597| POI3|45.521629| -73.566024| 504.886|\n",
      "|4843104|2017-06-21 01:22:...|     CA|      AB| Edmonton| 53.4154|-113.4178| POI1|53.546167|-113.485734|   15.22|\n",
      "|4843104|2017-06-21 01:22:...|     CA|      AB| Edmonton| 53.4154|-113.4178| POI4| 45.22483| -63.232729|3667.835|\n",
      "|4843104|2017-06-21 01:22:...|     CA|      AB| Edmonton| 53.4154|-113.4178| POI3|45.521629| -73.566024|2966.786|\n",
      "|5030419|2017-06-21 01:36:...|     CA|      AB|  Calgary| 51.0823|-113.9578| POI1|53.546167|-113.485734| 275.841|\n",
      "|5030419|2017-06-21 01:36:...|     CA|      AB|  Calgary| 51.0823|-113.9578| POI4| 45.22483| -63.232729|3741.979|\n",
      "+-------+--------------------+-------+--------+---------+--------+---------+-----+---------+-----------+--------+\n",
      "only showing top 20 rows\n",
      "\n"
     ]
    }
   ],
   "source": [
    "combine.show()"
   ]
  },
  {
   "cell_type": "code",
   "execution_count": 12,
   "metadata": {},
   "outputs": [],
   "source": [
    "minlabel = comp.groupBy('_ID').min('distance')\\\n",
    ".withColumnRenamed('min(distance)','distance')\\\n",
    ".join(comp,['_ID','distance'])"
   ]
  },
  {
   "cell_type": "code",
   "execution_count": 13,
   "metadata": {},
   "outputs": [],
   "source": [
    "minlabel = minlabel.dropDuplicates(['_ID','distance'])"
   ]
  },
  {
   "cell_type": "markdown",
   "metadata": {},
   "source": [
    "**Each request is assigned to the closes POI**"
   ]
  },
  {
   "cell_type": "code",
   "execution_count": 14,
   "metadata": {},
   "outputs": [
    {
     "name": "stdout",
     "output_type": "stream",
     "text": [
      "+-------+--------+--------------------+-------+--------+---------+--------+----------+-----+---------+-----------+\n",
      "|    _ID|distance|              TimeSt|Country|Province|     City|Latitude| Longitude|POIID|     PLat|      PLong|\n",
      "+-------+--------+--------------------+-------+--------+---------+--------+----------+-----+---------+-----------+\n",
      "|4548784| 573.303|2017-06-21 17:01:...|     CA|      ON|   Guelph| 43.5412|  -80.2469| POI3|45.521629| -73.566024|\n",
      "|4553085| 597.379|2017-06-21 04:01:...|     CA|      ON|Kitchener| 43.4381|  -80.5099| POI3|45.521629| -73.566024|\n",
      "|4576386| 279.972|2017-06-21 09:02:...|     CA|      AB|  Calgary|51.06561|-114.19218| POI1|53.546167|-113.485734|\n",
      "|4598353|  143.94|2017-06-21 12:03:...|     CA|      AB| Red Deer| 52.2651|  -113.794| POI1|53.546167|-113.485734|\n",
      "|4598655|  15.162|2017-06-21 11:03:...|     CA|      AB| Edmonton| 53.4113|  -113.452| POI1|53.546167|-113.485734|\n",
      "+-------+--------+--------------------+-------+--------+---------+--------+----------+-----+---------+-----------+\n",
      "only showing top 5 rows\n",
      "\n"
     ]
    }
   ],
   "source": [
    "minlabel.show(5)"
   ]
  },
  {
   "cell_type": "markdown",
   "metadata": {},
   "source": [
    "# C. Analysis P1\n",
    "\n",
    "**Calculate average and std. deviation of distance for each POI**"
   ]
  },
  {
   "cell_type": "code",
   "execution_count": 15,
   "metadata": {},
   "outputs": [
    {
     "name": "stdout",
     "output_type": "stream",
     "text": [
      "+-----+------------------+------------------+\n",
      "|POIID|     avg(distance)|  stddev(distance)|\n",
      "+-----+------------------+------------------+\n",
      "| POI4| 497.2787777777776|1472.9378169838208|\n",
      "| POI1| 301.9068391076385|412.43003372076623|\n",
      "| POI3|451.52758356304207| 223.3505570503738|\n",
      "+-----+------------------+------------------+\n",
      "\n"
     ]
    }
   ],
   "source": [
    "analysis1 = minlabel.groupBy('POIID')\\\n",
    ".agg({'distance':'mean'})\\\n",
    ".join(minlabel.groupBy('POIID')\\\n",
    "      .agg({'distance':'stddev'}),'POIID')\n",
    "\n",
    "analysis1.show()"
   ]
  },
  {
   "cell_type": "markdown",
   "metadata": {},
   "source": [
    "# P2\n",
    "\n",
    "**Create circle with POI as central point, inclusive to all of its requests**\n",
    "**Calculate each POI circle's area and density**\n",
    "\n",
    "- The radius is determined as being the distance to the farthest request included for the POI"
   ]
  },
  {
   "cell_type": "code",
   "execution_count": 18,
   "metadata": {},
   "outputs": [
    {
     "name": "stdout",
     "output_type": "stream",
     "text": [
      "+-----+---------+-----+--------------------+\n",
      "|POIID|radius km|count|     Density req/km2|\n",
      "+-----+---------+-----+--------------------+\n",
      "| POI4| 9349.573|  477|1.736940543790461...|\n",
      "| POI1|11531.821| 9727|2.328269548875398...|\n",
      "| POI3| 1474.581| 9795|0.001433894834424...|\n",
      "+-----+---------+-----+--------------------+\n",
      "\n"
     ]
    }
   ],
   "source": [
    "analysis2 = minlabel.groupBy('POIID')\\\n",
    ".agg({'distance':'max'})\\\n",
    ".join(minlabel.groupBy('POIID')\\\n",
    "      .count(), 'POIID')\\\n",
    ".withColumnRenamed('max(distance)','radius km')\n",
    "\n",
    "analysis2 = analysis2.withColumn('Density req/km2', f.col('count') / (3.1412 * f.col('radius km')* f.col('radius km')))\n",
    "\n",
    "analysis2.show()"
   ]
  },
  {
   "cell_type": "code",
   "execution_count": null,
   "metadata": {},
   "outputs": [],
   "source": []
  }
 ],
 "metadata": {
  "kernelspec": {
   "display_name": "Python 3",
   "language": "python",
   "name": "python3"
  },
  "language_info": {
   "codemirror_mode": {
    "name": "ipython",
    "version": 3
   },
   "file_extension": ".py",
   "mimetype": "text/x-python",
   "name": "python",
   "nbconvert_exporter": "python",
   "pygments_lexer": "ipython3",
   "version": "3.7.4"
  }
 },
 "nbformat": 4,
 "nbformat_minor": 2
}
